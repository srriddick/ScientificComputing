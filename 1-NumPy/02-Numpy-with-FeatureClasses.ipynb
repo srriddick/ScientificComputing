{
 "cells": [
  {
   "cell_type": "markdown",
   "metadata": {},
   "source": [
    "## Using NumPy with ArcGIS: *FeatureClass to NumPy Arrays*\n",
    "\n",
    "This notebook demonstrates how NumPy facilitates manipulation of feature class attribute data. By no means is this an in-depth introduction, let alone discussion, of NumPy, but it does at least familiarize you with what NumPy is about and how it can be used with ArcGIS feature classes. The links below provide more in-depth reading on NumPy and how it's used with feature classes.\n",
    "\n",
    "Resources:\n",
    "* https://jakevdp.github.io/PythonDataScienceHandbook/index.html#2.-Introduction-to-NumPy\n",
    "* http://pro.arcgis.com/en/pro-app/arcpy/data-access/featureclasstonumpyarray.htm"
   ]
  },
  {
   "cell_type": "code",
   "execution_count": 1,
   "metadata": {},
   "outputs": [],
   "source": [
    "#Import arcpy and numpy\n",
    "import arcpy\n",
    "import numpy as np"
   ]
  },
  {
   "cell_type": "code",
   "execution_count": 2,
   "metadata": {},
   "outputs": [
    {
     "name": "stdout",
     "output_type": "stream",
     "text": [
      "True\n"
     ]
    }
   ],
   "source": [
    "#Point to the HUC12.shp feature class in the Data folder (ensure it exists)\n",
    "huc12_fc = '../Data/HUC12.shp'\n",
    "print (arcpy.Exists(huc12_fc))"
   ]
  },
  {
   "cell_type": "code",
   "execution_count": 3,
   "metadata": {},
   "outputs": [
    {
     "data": {
      "text/plain": [
       "['FID',\n",
       " 'Shape',\n",
       " 'OBJECTID_2',\n",
       " 'OBJECTID',\n",
       " 'HUC_8',\n",
       " 'HUC_10',\n",
       " 'HUC_12',\n",
       " 'ACRES',\n",
       " 'NCONTRB_A',\n",
       " 'HU_10_GNIS',\n",
       " 'HU_12_GNIS',\n",
       " 'HU_10_DS',\n",
       " 'HU_10_NAME',\n",
       " 'HU_10_MOD',\n",
       " 'HU_10_TYPE',\n",
       " 'HU_12_DS',\n",
       " 'HU_12_NAME',\n",
       " 'HU_12_MOD',\n",
       " 'HU_12_TYPE',\n",
       " 'META_ID',\n",
       " 'STATES',\n",
       " 'GlobalID',\n",
       " 'SHAPE_Leng',\n",
       " 'GAZ_ID',\n",
       " 'WBD_Date',\n",
       " 'VPUID',\n",
       " 'Shape_Le_1',\n",
       " 'Shape_STAr',\n",
       " 'Shape_STLe']"
      ]
     },
     "execution_count": 3,
     "metadata": {},
     "output_type": "execute_result"
    }
   ],
   "source": [
    "#List the fields contained in the \"huc12_fc\" feature class\n",
    "[f.name for f in arcpy.ListFields(huc12_fc)]"
   ]
  },
  {
   "cell_type": "markdown",
   "metadata": {},
   "source": [
    "* Here,we convert the feature class to a NumPy array using ArcPy's [`FeatureClassToNumPyArray`](http://pro.arcgis.com/en/pro-app/arcpy/data-access/featureclasstonumpyarray.htm) function. "
   ]
  },
  {
   "cell_type": "code",
   "execution_count": 4,
   "metadata": {},
   "outputs": [],
   "source": [
    "#List the fields we want to convert\n",
    "fieldList = [\"Shape@XY\",\"HUC_8\",\"HUC_12\",\"ACRES\"]\n",
    "arrHUCS = arcpy.da.FeatureClassToNumPyArray(huc12_fc,fieldList)"
   ]
  },
  {
   "cell_type": "code",
   "execution_count": 5,
   "metadata": {},
   "outputs": [
    {
     "data": {
      "text/plain": [
       "numpy.ndarray"
      ]
     },
     "execution_count": 5,
     "metadata": {},
     "output_type": "execute_result"
    }
   ],
   "source": [
    "#Display the type of the returned object\n",
    "type(arrHUCS)"
   ]
  },
  {
   "cell_type": "markdown",
   "metadata": {},
   "source": [
    "* As a NumPy array, we can do different operations on the feature class. But first, let's inspect the array's properties. "
   ]
  },
  {
   "cell_type": "code",
   "execution_count": 6,
   "metadata": {},
   "outputs": [],
   "source": [
    "#Reveal documentation on the ndarray object\n",
    "arrHUCS?"
   ]
  },
  {
   "cell_type": "code",
   "execution_count": 7,
   "metadata": {},
   "outputs": [
    {
     "data": {
      "text/plain": [
       "210"
      ]
     },
     "execution_count": 7,
     "metadata": {},
     "output_type": "execute_result"
    }
   ],
   "source": [
    "#How many records does it contain\n",
    "arrHUCS.size"
   ]
  },
  {
   "cell_type": "code",
   "execution_count": 8,
   "metadata": {},
   "outputs": [
    {
     "name": "stdout",
     "output_type": "stream",
     "text": [
      "[('Shape@XY', '<f8', (2,)), ('HUC_8', '<U8'), ('HUC_12', '<U12'), ('ACRES', '<f8')]\n"
     ]
    }
   ],
   "source": [
    "#What are the data types stored in this array\n",
    "print (arrHUCS.dtype)"
   ]
  },
  {
   "cell_type": "code",
   "execution_count": 9,
   "metadata": {},
   "outputs": [
    {
     "name": "stdout",
     "output_type": "stream",
     "text": [
      "('Shape@XY', 'HUC_8', 'HUC_12', 'ACRES')\n"
     ]
    }
   ],
   "source": [
    "#Or, just what are the names of the \"columns\"\n",
    "print (arrHUCS.dtype.names)"
   ]
  },
  {
   "cell_type": "markdown",
   "metadata": {},
   "source": [
    "In looking at the data types, you notice that this NumPy array actually has multiple data types.\n",
    "\n",
    "\n",
    "The ndarray object is actually a specific type of NumPy array - a **structured array**. (See https://jakevdp.github.io/PythonDataScienceHandbook/02.09-structured-data-numpy.html) A *structured array* is really just a collection of individual ndarrays, all of the same length, with each individual ndarray referenced by a field name. In other words, it's structured much like an attribute table where each field/column is it's own ndarray. \n",
    "\n",
    "Our `arrHUCs` structured array has 4 embedded \"sub\" arrays with the names `SHAPE@XY`, `HUC_8`, `HUC_12`, and `ACRES`)"
   ]
  },
  {
   "cell_type": "markdown",
   "metadata": {},
   "source": [
    "Now, let's see what we can do with this..."
   ]
  },
  {
   "cell_type": "markdown",
   "metadata": {},
   "source": [
    "### Selecting specific rows/columns/values from our NumPy array\n",
    "* Numpy arrays allow **slicing**, much like familiar Python lists, enabling us to quickly nab subsets of data. "
   ]
  },
  {
   "cell_type": "code",
   "execution_count": 10,
   "metadata": {},
   "outputs": [
    {
     "name": "stdout",
     "output_type": "stream",
     "text": [
      "([-79.93890576,  35.48508838], '03040103', '030401030503', 15414.)\n"
     ]
    }
   ],
   "source": [
    "#Show the first row of data\n",
    "print (arrHUCS[0]) "
   ]
  },
  {
   "cell_type": "code",
   "execution_count": 11,
   "metadata": {},
   "outputs": [
    {
     "name": "stdout",
     "output_type": "stream",
     "text": [
      "[([-79.93890576,  35.48508838], '03040103', '030401030503', 15414.)\n",
      " ([-80.10361823,  35.47440895], '03040103', '030401030605', 42390.)\n",
      " ([-80.39449973,  35.87133309], '03040101', '030401011503', 32998.)\n",
      " ([-80.50179609,  35.89937972], '03040101', '030401011404', 29297.)\n",
      " ([-80.35986875,  34.82920682], '03040104', '030401040101', 14822.)]\n"
     ]
    }
   ],
   "source": [
    "#Show all data from the first 5 rows of data\n",
    "print (arrHUCS[0:5])     "
   ]
  },
  {
   "cell_type": "code",
   "execution_count": 13,
   "metadata": {},
   "outputs": [
    {
     "name": "stdout",
     "output_type": "stream",
     "text": [
      "[([-80.74349003,  36.55573167], '03040101', '030401010804', 10389.0986449 )\n",
      " ([-80.76993095,  36.4982624 ], '03040101', '030401010703',  1165.65651233)\n",
      " ([-80.87183301,  36.51863643], '03040101', '030401010701',   886.50610243)\n",
      " ([-80.49255072,  35.2641331 ], '03040105', '030401050307', 33634.        )\n",
      " ([-79.79444406,  35.15382153], '03040104', '030401040505', 32563.        )]\n"
     ]
    }
   ],
   "source": [
    "#YOU TRY IT: Show all data from rows 10 thru 15\n",
    "print(arrHUCS[9:14])"
   ]
  },
  {
   "cell_type": "code",
   "execution_count": 14,
   "metadata": {},
   "outputs": [
    {
     "data": {
      "text/plain": [
       "'03040104'"
      ]
     },
     "execution_count": 14,
     "metadata": {},
     "output_type": "execute_result"
    }
   ],
   "source": [
    "#Show the value of the 5th row in the `HUC_8' field\n",
    "arrHUCS[4]['HUC_8']"
   ]
  },
  {
   "cell_type": "code",
   "execution_count": 15,
   "metadata": {},
   "outputs": [
    {
     "data": {
      "text/plain": [
       "10563.0"
      ]
     },
     "execution_count": 15,
     "metadata": {},
     "output_type": "execute_result"
    }
   ],
   "source": [
    "#YOU TRY IT: Show the value in the ACRES field of the last row\n",
    "arrHUCS[-1]['ACRES']"
   ]
  },
  {
   "cell_type": "code",
   "execution_count": 16,
   "metadata": {},
   "outputs": [
    {
     "name": "stdout",
     "output_type": "stream",
     "text": [
      "['030401030503' '030401030605' '030401011503' '030401011404'\n",
      " '030401040101' '030401050602' '030401050603' '030401040102'\n",
      " '030401010802' '030401010804' '030401010703' '030401010701'\n",
      " '030401050307' '030401040505' '030401040402' '030401040401'\n",
      " '030401050305' '030401050405' '030401050403' '030401040204'\n",
      " '030401040202' '030401050304' '030401040306' '030401040305'\n",
      " '030401050105' '030401050401' '030401040201' '030401050201'\n",
      " '030401050404' '030401050402' '030401030505' '030401050203'\n",
      " '030401040303' '030401050303' '030401010603' '030401010303'\n",
      " '030401010304' '030401010306' '030401010403' '030401011302'\n",
      " '030401011001' '030401011002' '030401011005' '030401011006'\n",
      " '030401010904' '030401011004' '030401010104' '030401010202'\n",
      " '030401050702' '030401050306' '030401050601' '030401050502'\n",
      " '030401050501' '030401050504' '030401050503' '030401050506'\n",
      " '030401050701' '030401050704' '030401040301' '030401030105'\n",
      " '030401020504' '030401030601' '030401020304' '030401030207'\n",
      " '030401020402' '030401020403' '030401020401' '030401020301'\n",
      " '030401030406' '030401020603' '030401030304' '030401020108'\n",
      " '030401030103' '030401011504' '030401020103' '030401020109'\n",
      " '030401020601' '030401030403' '030401030206' '030401030401'\n",
      " '030401030104' '030401020206' '030401030204' '030401020102'\n",
      " '030401020105' '030401010103' '030401030404' '030401020107'\n",
      " '030401020101' '030401020602' '030401011502' '030401030402'\n",
      " '030401020106' '030401030205' '030401010201' '030401020104'\n",
      " '030401010203' '030401011308' '030401011403' '030401020205'\n",
      " '030401011402' '030401011401' '030401020204' '030401010301'\n",
      " '030401030201' '030401010206' '030401020201' '030401030203'\n",
      " '030401020203' '030401011501' '030401010307' '030401010302'\n",
      " '030401011103' '030401010401' '030401011307' '030401020202'\n",
      " '030401011203' '030401010407' '030401011303' '030401011305'\n",
      " '030401011306' '030401030202' '030401011101' '030401030603'\n",
      " '030401050202' '030401040304' '030401030604' '030401030504'\n",
      " '030401040302' '030401030303' '030401020503' '030401030502'\n",
      " '030401030101' '030401030301' '030401030302' '030401030305'\n",
      " '030401030501' '030401030102' '030401030405' '030401010803'\n",
      " '030401010805' '030401010801' '030401050406' '030401040203'\n",
      " '030401030602' '030401040103' '030401050505' '030401040501'\n",
      " '030401040506' '030401050604' '030401050706' '030401050507'\n",
      " '030401040502' '030401040205' '030401040504' '030401040403'\n",
      " '030401050708' '030401050703' '030401040404' '030401050707'\n",
      " '030401010105' '030401010102' '030401010101' '030401020501'\n",
      " '030401050302' '030401050106' '030401050102' '030401020502'\n",
      " '030401020302' '030401050301' '030401050103' '030401050101'\n",
      " '030401050104' '030401020303' '030401011301' '030401011007'\n",
      " '030401010601' '030401010204' '030401010402' '030401010205'\n",
      " '030401010305' '030401010602' '030401011202' '030401010605'\n",
      " '030401011102' '030401010406' '030401011201' '030401010606'\n",
      " '030401010607' '030401040104' '030401040105' '030401040503'\n",
      " '030401050705' '030401011304' '030401010604' '030401010404'\n",
      " '030401010503' '030401010502' '030401010705' '030401010405'\n",
      " '030401010903' '030401011003' '030401010504' '030401010702'\n",
      " '030401010501' '030401010704' '030401010806' '030401010902'\n",
      " '030401010901' '030401010807']\n"
     ]
    }
   ],
   "source": [
    "#List all the HUC12s in the dataset\n",
    "print (arrHUCS['HUC_12'])"
   ]
  },
  {
   "cell_type": "code",
   "execution_count": 18,
   "metadata": {},
   "outputs": [
    {
     "name": "stdout",
     "output_type": "stream",
     "text": [
      "[15414.         42390.         32998.         29297.\n",
      " 14822.         21083.         11745.         26054.\n",
      " 10907.619446   10389.0986449   1165.65651233   886.50610243\n",
      " 33634.         32563.         27580.         20719.\n",
      " 12768.         25867.          8008.         21240.\n",
      " 11358.         23836.         31951.         18792.\n",
      " 20165.         18520.         20796.          8818.\n",
      " 35647.         21391.         20265.         29616.\n",
      " 22263.         39307.          8217.         19168.\n",
      " 18277.         31521.         14750.         22398.\n",
      " 27157.         14810.         18870.         24683.\n",
      " 17454.          9358.         32340.         24223.\n",
      " 32153.         15766.         21601.          9366.\n",
      "  9742.         38941.         22616.         25016.\n",
      " 27058.         25726.         29255.         23405.\n",
      " 17173.         21942.          7699.         16009.\n",
      " 19311.         20836.         16998.         14560.\n",
      " 25516.         14636.         31161.         18661.\n",
      " 18061.         17485.         16059.         19243.\n",
      " 18014.         24302.         19941.         27778.\n",
      " 31556.         12864.         19104.         19136.\n",
      " 22624.         17791.         31270.         12494.\n",
      " 34212.         18912.         14080.         26444.\n",
      " 22795.         11816.         13201.         19700.\n",
      " 16515.         18340.         19441.         25311.\n",
      " 14904.         19271.         21902.         15858.\n",
      " 15828.         21239.         36517.         31294.\n",
      " 17410.         27475.         16832.         11039.\n",
      " 30077.         11537.         28475.         17536.\n",
      " 33925.          9226.         12112.         17980.\n",
      " 16578.         28859.         21137.         19787.\n",
      " 32189.         20548.         24371.         28957.\n",
      " 23318.         34418.         16767.         21057.\n",
      " 30648.         28112.         21241.         17306.\n",
      " 20037.         12725.          7211.         16075.0241935\n",
      " 13695.0530108  22688.4055585  19487.         34639.\n",
      " 13254.         28697.         17290.          9888.\n",
      " 25058.         34026.         12473.         26878.\n",
      " 14296.         21453.         15423.         10024.\n",
      " 12719.         14049.         20080.         25830.\n",
      " 14322.         27096.         21149.         24702.\n",
      " 27567.         11685.         30931.         31931.\n",
      " 15816.          9908.         26602.         18018.\n",
      " 30493.         26341.         20905.         30343.\n",
      " 11467.         23252.          7600.         22417.\n",
      " 22238.         11216.         17564.         14031.\n",
      " 28548.         10413.         16915.          9831.\n",
      "  8983.         16201.         30032.          9125.\n",
      " 18535.         26784.         23247.         27922.\n",
      " 11756.         16103.         24285.         36264.\n",
      " 11309.         10990.         22641.         17316.\n",
      " 18730.         16920.         10109.         24602.\n",
      " 25106.         10563.        ]\n"
     ]
    }
   ],
   "source": [
    "#YOU TRY IT: #List all the ACRES values in the dataset\n",
    "print(arrHUCS['ACRES'])"
   ]
  },
  {
   "cell_type": "markdown",
   "metadata": {},
   "source": [
    "### Calculations\n",
    "* We can also do rapid calculations with the data..."
   ]
  },
  {
   "cell_type": "code",
   "execution_count": 19,
   "metadata": {},
   "outputs": [
    {
     "data": {
      "text/plain": [
       "20493.65411175457"
      ]
     },
     "execution_count": 19,
     "metadata": {},
     "output_type": "execute_result"
    }
   ],
   "source": [
    "#List the mean area of all HUCs\n",
    "arrHUCS['ACRES'].mean()"
   ]
  },
  {
   "cell_type": "code",
   "execution_count": 20,
   "metadata": {},
   "outputs": [
    {
     "data": {
      "text/plain": [
       "array([ 38088.7647    , 104747.8095    ,  81539.7079    ,  72394.35185   ,\n",
       "        36625.9031    ,  52097.14715   ,  29022.48225   ,  64380.7367    ,\n",
       "        26953.27303204,  25671.98220648,   2880.39552479,   2190.60090441,\n",
       "        83111.2957    ,  80464.80115   ,  68151.559     ,  51197.68495   ,\n",
       "        31550.3664    ,  63918.65035   ,  19788.1684    ,  52485.102     ,\n",
       "        28066.1859    ,  58899.9478    ,  78952.51855   ,  46435.9716    ,\n",
       "        49828.72325   ,  45763.846     ,  51387.9558    ,  21789.7189    ,\n",
       "        88085.51935   ,  52858.23055   ,  50075.82825   ,  73182.6168    ,\n",
       "        55012.98615   ,  97129.56235   ,  20304.61785   ,  47365.0864    ,\n",
       "        45163.38085   ,  77889.96705   ,  36447.9875    ,  55346.5779    ,\n",
       "        67106.30485   ,  36596.2505    ,  46628.7135    ,  60992.92715   ,\n",
       "        43129.7067    ,  23124.0859    ,  79913.757     ,  59856.24415   ,\n",
       "        79451.67065   ,  38958.5743    ,  53377.15105   ,  23143.8543    ,\n",
       "        24072.9691    ,  96225.15805   ,  55885.2668    ,  61815.7868    ,\n",
       "        66861.6709    ,  63570.2323    ,  72290.56775   ,  57834.92525   ,\n",
       "        42435.34165   ,  54219.7791    ,  19024.61395   ,  39559.03945   ,\n",
       "        47718.44655   ,  51486.7978    ,  42002.9079    ,  35978.488     ,\n",
       "        63051.3118    ,  36166.2878    ,  77000.38905   ,  46112.26405   ,\n",
       "        44629.63405   ,  43206.30925   ,  39682.59195   ,  47550.41515   ,\n",
       "        44513.4947    ,  60051.4571    ,  49275.20805   ,  68640.8269    ,\n",
       "        77976.4538    ,  31787.5872    ,  47206.9392    ,  47286.0128    ,\n",
       "        55905.0352    ,  43962.45055   ,  77269.7335    ,  30873.2987    ,\n",
       "        84539.5626    ,  46732.4976    ,  34792.384     ,  65344.4462    ,\n",
       "        56327.58475   ,  29197.9268    ,  32620.33105   ,  48679.685     ,\n",
       "        40809.39075   ,  45319.057     ,  48039.68305   ,  62544.74655   ,\n",
       "        36828.5292    ,  47619.60455   ,  54120.9371    ,  39185.9109    ,\n",
       "        39111.7794    ,  52482.63095   ,  90235.33285   ,  77329.0387    ,\n",
       "        43020.9805    ,  67892.09875   ,  41592.7136    ,  27277.92095   ,\n",
       "        74321.77085   ,  28508.50385   ,  70363.14875   ,  43332.3328    ,\n",
       "        83830.37125   ,  22797.9073    ,  29929.3576    ,  44429.479     ,\n",
       "        40965.0669    ,  71312.03195   ,  52230.58385   ,  48894.66635   ,\n",
       "        79540.62845   ,  50775.1354    ,  60221.95955   ,  71554.19485   ,\n",
       "        57619.9439    ,  85048.5989    ,  41432.09535   ,  52032.89985   ,\n",
       "        75732.7404    ,  69466.1576    ,  52487.57305   ,  42763.9913    ,\n",
       "        49512.42885   ,  31444.11125   ,  17818.74155   ,  39722.18853335,\n",
       "        33841.16074234,  56064.18455533,  48153.35135   ,  85594.70095   ,\n",
       "        32751.2967    ,  70911.72185   ,  42724.4545    ,  24433.7424    ,\n",
       "        61919.5709    ,  84079.9473    ,  30821.40665   ,  66416.8819    ,\n",
       "        35326.1308    ,  53011.43565   ,  38111.00415   ,  24769.8052    ,\n",
       "        31429.28495   ,  34715.78145   ,  49618.684     ,  63827.2215    ,\n",
       "        35390.3781    ,  66955.5708    ,  52260.23645   ,  61039.8771    ,\n",
       "        68119.43535   ,  28874.21925   ,  76432.04755   ,  78903.09755   ,\n",
       "        39082.1268    ,  24483.1634    ,  65734.8721    ,  44523.3789    ,\n",
       "        75349.72765   ,  65089.92805   ,  51657.30025   ,  74979.07015   ,\n",
       "        28335.53035   ,  57456.8546    ,  18779.98      ,  55393.52785   ,\n",
       "        54951.2099    ,  27715.2968    ,  43401.5222    ,  34671.30255   ,\n",
       "        70543.5354    ,  25731.04365   ,  41797.81075   ,  24292.89255   ,\n",
       "        22197.44215   ,  40033.48105   ,  74210.5736    ,  22548.33125   ,\n",
       "        45800.91175   ,  66184.6032    ,  57444.49935   ,  68996.6581    ,\n",
       "        29049.6638    ,  39791.31815   ,  60009.44925   ,  89610.1572    ,\n",
       "        27945.10445   ,  27156.8395    ,  55947.04305   ,  42788.7018    ,\n",
       "        46282.7665    ,  41810.166     ,  24979.84445   ,  60792.7721    ,\n",
       "        62038.1813    ,  26101.70115   ])"
      ]
     },
     "execution_count": 20,
     "metadata": {},
     "output_type": "execute_result"
    }
   ],
   "source": [
    "#List all the ACRES values, but in hectares (1 acre = 2.47105 ha)\n",
    "arrHUCS['ACRES'] * 2.47105"
   ]
  },
  {
   "cell_type": "code",
   "execution_count": 24,
   "metadata": {},
   "outputs": [
    {
     "ename": "TypeError",
     "evalue": "ufunc 'floor_divide' not supported for the input types, and the inputs could not be safely coerced to any supported types according to the casting rule ''safe''",
     "output_type": "error",
     "traceback": [
      "\u001b[1;31m---------------------------------------------------------------------------\u001b[0m",
      "\u001b[1;31mTypeError\u001b[0m                                 Traceback (most recent call last)",
      "\u001b[1;32m<ipython-input-24-04881bc00298>\u001b[0m in \u001b[0;36m<module>\u001b[1;34m\u001b[0m\n\u001b[0;32m      1\u001b[0m \u001b[1;31m#YOU TRY IT: What is the total area of all HUC12s, in hectares\u001b[0m\u001b[1;33m\u001b[0m\u001b[1;33m\u001b[0m\u001b[1;33m\u001b[0m\u001b[0m\n\u001b[1;32m----> 2\u001b[1;33m \u001b[0marrHUCS\u001b[0m\u001b[1;33m[\u001b[0m\u001b[1;34m'HUC_12'\u001b[0m\u001b[1;33m]\u001b[0m \u001b[1;33m//\u001b[0m \u001b[1;36m2.47105\u001b[0m\u001b[1;33m\u001b[0m\u001b[1;33m\u001b[0m\u001b[0m\n\u001b[0m",
      "\u001b[1;31mTypeError\u001b[0m: ufunc 'floor_divide' not supported for the input types, and the inputs could not be safely coerced to any supported types according to the casting rule ''safe''"
     ]
    }
   ],
   "source": [
    "#YOU TRY IT: What is the total area of all HUC12s, in hectares\n",
    "arrHUCS['HUC_12'] // 2.47105"
   ]
  },
  {
   "cell_type": "markdown",
   "metadata": {},
   "source": [
    "### Subsetting data with NumPy\n",
    "We can also subset records in our array which we will do as a two step process. \n",
    "1. First we create a boolean **mask array**, that is an array of true and false values where a record is true if a condition is met. \n",
    "2. Then we **apply this mask** to our original array to isolate records where the mask is true"
   ]
  },
  {
   "cell_type": "code",
   "execution_count": 22,
   "metadata": {},
   "outputs": [
    {
     "data": {
      "text/plain": [
       "array([ True,  True, False, False, False, False, False, False, False,\n",
       "       False])"
      ]
     },
     "execution_count": 22,
     "metadata": {},
     "output_type": "execute_result"
    }
   ],
   "source": [
    "#First we make a boolean mask and show the first 10 records\n",
    "arrMask = (arrHUCS[\"HUC_8\"] == '03040103')\n",
    "arrMask[:10]"
   ]
  },
  {
   "cell_type": "code",
   "execution_count": 25,
   "metadata": {},
   "outputs": [],
   "source": [
    "#Now we apply the mask to isolate record where this is true\n",
    "arrSelectedHUC8 = arrHUCS[arrMask]"
   ]
  },
  {
   "cell_type": "code",
   "execution_count": 26,
   "metadata": {},
   "outputs": [
    {
     "name": "stdout",
     "output_type": "stream",
     "text": [
      "33\n"
     ]
    }
   ],
   "source": [
    "#The original array had 201 records, how many records does this have? \n",
    "print (arrSelectedHUC8.size)"
   ]
  },
  {
   "cell_type": "code",
   "execution_count": 27,
   "metadata": {},
   "outputs": [
    {
     "data": {
      "text/plain": [
       "([-80.21336519,  35.79472106], '03040103', '030401030206', 19941.)"
      ]
     },
     "execution_count": 27,
     "metadata": {},
     "output_type": "execute_result"
    }
   ],
   "source": [
    "#Print the 11th row of our selected records\n",
    "arrSelectedHUC8[10]"
   ]
  },
  {
   "cell_type": "code",
   "execution_count": 28,
   "metadata": {},
   "outputs": [
    {
     "data": {
      "text/plain": [
       "23075.121212121212"
      ]
     },
     "execution_count": 28,
     "metadata": {},
     "output_type": "execute_result"
    }
   ],
   "source": [
    "#Calculate the mean area of these HUCs\n",
    "arrSelectedHUC8['ACRES'].mean()"
   ]
  },
  {
   "cell_type": "code",
   "execution_count": null,
   "metadata": {},
   "outputs": [],
   "source": [
    "#Plot a historam of HUC_12 areas\n",
    "%matplotlib inline\n",
    "import matplotlib.pyplot as plt\n",
    "#import seaborn; seaborn.set()  # set plot style"
   ]
  },
  {
   "cell_type": "code",
   "execution_count": null,
   "metadata": {},
   "outputs": [],
   "source": [
    "plt.hist(arrHUCS['ACRES']);\n",
    "plt.title('Area Distribution of HUC_12s')\n",
    "plt.xlabel('Area (acres)')\n",
    "plt.ylabel('number');"
   ]
  },
  {
   "cell_type": "markdown",
   "metadata": {},
   "source": [
    "### Recap\n",
    "Converting our feature attribute table to a NumPy array opens the door to some rapid computations using NumPy's speedy capabilities - a vast improvment over using arcpy's cursor objects!"
   ]
  }
 ],
 "metadata": {
  "kernelspec": {
   "display_name": "Python 3",
   "language": "python",
   "name": "python3"
  },
  "language_info": {
   "codemirror_mode": {
    "name": "ipython",
    "version": 3
   },
   "file_extension": ".py",
   "mimetype": "text/x-python",
   "name": "python",
   "nbconvert_exporter": "python",
   "pygments_lexer": "ipython3",
   "version": "3.6.10"
  }
 },
 "nbformat": 4,
 "nbformat_minor": 2
}
